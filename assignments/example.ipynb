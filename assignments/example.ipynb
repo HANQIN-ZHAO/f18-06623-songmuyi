{
 "cells": [
  {
   "cell_type": "markdown",
   "metadata": {},
   "source": [
    "- ASSIGNMENT: example\n",
    "- POINTS: 2\n",
    "- CATEGORY: homework\n",
    "- RUBRIC: just-technical\n",
    "- RUBRIC_CATEGORIES: technical\n",
    "- RUBRIC_WEIGHTS: 1.0\n",
    "- DUEDATE: 2018-08-24 23:59:59\n",
    "- GRADER: John Kitchin\n"
   ]
  },
  {
   "cell_type": "markdown",
   "metadata": {},
   "source": [
    "Use python to add 5 and 5.\n",
    "\n"
   ]
  },
  {
   "cell_type": "code",
   "execution_count": 1,
   "metadata": {},
   "outputs": [
    {
     "data": {
      "text/plain": [
       "12"
      ]
     },
     "execution_count": 1,
     "metadata": {},
     "output_type": "execute_result"
    }
   ],
   "source": [
    "4+8"
   ]
  }
 ],
 "metadata": {
  "kernelspec": {
   "display_name": "Python 3",
   "language": "python",
   "name": "python3"
  },
  "language_info": {
   "codemirror_mode": {
    "name": "ipython",
    "version": 3
   },
   "file_extension": ".py",
   "mimetype": "text/x-python",
   "name": "python",
   "nbconvert_exporter": "python",
   "pygments_lexer": "ipython3",
   "version": "3.6.0"
  },
  "org": {
   "ASSIGNMENT": "example",
   "CATEGORY": "homework",
   "DUEDATE": "2018-08-24 23:59:59",
   "GRADER": "John Kitchin",
   "POINTS": "2",
   "RUBRIC": "just-technical",
   "RUBRIC_CATEGORIES": "technical",
   "RUBRIC_WEIGHTS": "1.0"
  }
 },
 "nbformat": 4,
 "nbformat_minor": 1
}
