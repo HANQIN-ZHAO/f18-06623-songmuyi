{
 "cells": [
  {
   "cell_type": "markdown",
   "metadata": {},
   "source": [
    "- ASSIGNMENT: example\n",
    "- POINTS: 1\n",
    "- CATEGORY: homework\n",
    "- RUBRIC: default\n",
    "- DUEDATE: 2018-08-29 23:59:59\n",
    "- GRADER: John\n"
   ]
  },
  {
   "cell_type": "markdown",
   "metadata": {},
   "source": [
    "Use python to add 5 and 5.\n",
    "\n"
   ]
  },
  {
   "cell_type": "code",
   "execution_count": 1,
   "metadata": {},
   "outputs": [],
   "source": []
  }
 ],
 "metadata": {
  "kernelspec": {
   "display_name": "Python 3",
   "language": "python",
   "name": "python3"
  },
  "language_info": {
   "codemirror_mode": {
    "name": "ipython",
    "version": 3
   },
   "file_extension": ".py",
   "mimetype": "text/x-python",
   "name": "python",
   "nbconvert_exporter": "python",
   "pygments_lexer": "ipython3",
   "version": "3.6.0"
  },
  "org": {
   "ASSIGNMENT": "example",
   "CATEGORY": "homework",
   "DUEDATE": "2018-08-29 23:59:59",
   "GRADER": "John",
   "POINTS": "1",
   "RUBRIC": "default"
  }
 },
 "nbformat": 4,
 "nbformat_minor": 1
}
